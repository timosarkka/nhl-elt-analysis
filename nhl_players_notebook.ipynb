{
  "nbformat": 4,
  "nbformat_minor": 2,
  "cells": [
    {
      "cell_type": "markdown",
      "metadata": {
        "nteract": {
          "transient": {
            "deleting": false
          }
        }
      },
      "source": [
        "Import needed libraries"
      ]
    },
    {
      "cell_type": "code",
      "execution_count": 39,
      "outputs": [],
      "metadata": {
        "microsoft": {
          "language": "python"
        }
      },
      "source": [
        "%%pyspark\r\n",
        "\r\n",
        " from pyspark.sql.types import *\r\n",
        " from pyspark.sql.functions import *\r\n",
        " from pyspark.sql import SparkSession\r\n",
        " from pyspark.sql.functions import to_date"
      ]
    },
    {
      "cell_type": "markdown",
      "metadata": {
        "nteract": {
          "transient": {
            "deleting": false
          }
        }
      },
      "source": [
        "Read in all datasets to dataframes"
      ]
    },
    {
      "cell_type": "code",
      "execution_count": 40,
      "outputs": [],
      "metadata": {
        "jupyter": {
          "source_hidden": false,
          "outputs_hidden": false
        },
        "nteract": {
          "transient": {
            "deleting": false
          }
        },
        "collapsed": false
      },
      "source": [
        "df_skatergames = spark.read.csv('abfss://nhlroot@simondemosimondemo.dfs.core.windows.net/nhlrawplayerlevel/*.csv', header=True)\r\n",
        "display(df_skatergames.limit(20))\r\n",
        "num_rows = df_skatergames.count()\r\n",
        "\r\n",
        "# Check the qualities of the dataframe\r\n",
        "num_players = df_skatergames.select(\"playerID\").distinct().count()\r\n",
        "print(f\"Number of players: {num_players}\")\r\n",
        "num_rows = df_skatergames.count()\r\n",
        "print(f\"Number of rows: {num_rows}\")\r\n",
        "num_columns = len(df_skatergames.columns)\r\n",
        "print(f\"Number of columns: {num_columns}\")"
      ]
    },
    {
      "cell_type": "code",
      "execution_count": 41,
      "outputs": [],
      "metadata": {
        "jupyter": {
          "source_hidden": false,
          "outputs_hidden": false
        },
        "nteract": {
          "transient": {
            "deleting": false
          }
        },
        "collapsed": false
      },
      "source": [
        "df_teams = spark.read.csv('abfss://nhlroot@simondemosimondemo.dfs.core.windows.net/teams.csv', header=True)\r\n",
        "display(df_teams)"
      ]
    },
    {
      "cell_type": "code",
      "execution_count": 42,
      "outputs": [],
      "metadata": {
        "jupyter": {
          "source_hidden": false,
          "outputs_hidden": false
        },
        "nteract": {
          "transient": {
            "deleting": false
          }
        },
        "collapsed": false
      },
      "source": [
        "df_seasons = spark.read.csv('abfss://nhlroot@simondemosimondemo.dfs.core.windows.net/seasons.csv', header=True)\r\n",
        "display(df_seasons)"
      ]
    },
    {
      "cell_type": "markdown",
      "metadata": {
        "nteract": {
          "transient": {
            "deleting": false
          }
        }
      },
      "source": [
        "Select wanted columns for the games facts table"
      ]
    },
    {
      "cell_type": "code",
      "execution_count": 43,
      "outputs": [],
      "metadata": {
        "jupyter": {
          "source_hidden": false,
          "outputs_hidden": false
        },
        "nteract": {
          "transient": {
            "deleting": false
          }
        },
        "collapsed": false
      },
      "source": [
        "df_cleanskatergames = df_skatergames.select(\"playerID\", \"name\", \"gameID\", \"gameDate\", \"playerTeam\", \"opposingTeam\", \"season\", \"situation\", \"I_F_points\", \"I_F_goals\", \"penalties\", \"I_F_penalityminutes\", \"faceoffsWon\", \"faceoffsLost\", \"icetime\")\r\n",
        "display(df_cleanskatergames.limit(20))"
      ]
    },
    {
      "cell_type": "markdown",
      "metadata": {
        "nteract": {
          "transient": {
            "deleting": false
          }
        }
      },
      "source": [
        "Clean up team IDs"
      ]
    },
    {
      "cell_type": "code",
      "execution_count": 44,
      "outputs": [],
      "metadata": {
        "jupyter": {
          "source_hidden": false,
          "outputs_hidden": false
        },
        "nteract": {
          "transient": {
            "deleting": false
          }
        },
        "collapsed": false
      },
      "source": [
        "\r\n",
        "df_cleanskatergames = df_cleanskatergames.withColumn(\r\n",
        "    'playerTeam', \r\n",
        "    when(col('playerTeam') == \"L.A\", \"LAK\")\r\n",
        "    .when(col('playerTeam') == \"N.J\", \"NJD\")\r\n",
        "    .when(col('playerTeam') == \"S.J\", \"SJS\")\r\n",
        "    .when(col('playerTeam') == \"T.B\", \"TBL\")\r\n",
        "    .otherwise(col('playerTeam'))\r\n",
        ")\r\n",
        "\r\n",
        "df_cleanskatergames = df_cleanskatergames.withColumn(\r\n",
        "    'opposingTeam', \r\n",
        "    when(col('opposingTeam') == \"L.A\", \"LAK\")\r\n",
        "    .when(col('opposingTeam') == \"N.J\", \"NJD\")\r\n",
        "    .when(col('opposingTeam') == \"S.J\", \"SJS\")\r\n",
        "    .when(col('opposingTeam') == \"T.B\", \"TBL\")\r\n",
        "    .otherwise(col('opposingTeam'))\r\n",
        ")"
      ]
    },
    {
      "cell_type": "markdown",
      "metadata": {
        "nteract": {
          "transient": {
            "deleting": false
          }
        }
      },
      "source": [
        "Cast columns to proper types"
      ]
    },
    {
      "cell_type": "code",
      "execution_count": 45,
      "outputs": [],
      "metadata": {
        "jupyter": {
          "source_hidden": false,
          "outputs_hidden": false
        },
        "nteract": {
          "transient": {
            "deleting": false
          }
        },
        "collapsed": false
      },
      "source": [
        "df_cleanskatergames = df_cleanskatergames.withColumn(\"playerID\", col(\"playerID\").cast(IntegerType()))\r\n",
        "df_cleanskatergames = df_cleanskatergames.withColumn(\"name\", col(\"name\").cast(StringType()))\r\n",
        "df_cleanskatergames = df_cleanskatergames.withColumn(\"gameId\", col(\"gameId\").cast(IntegerType()))\r\n",
        "df_cleanskatergames = df_cleanskatergames.withColumn(\"gameDate\", to_date(df_cleanskatergames.gameDate, \"yyyyMMdd\"))\r\n",
        "df_cleanskatergames = df_cleanskatergames.withColumn(\"gameDate\", col(\"gameDate\").cast(DateType()))\r\n",
        "df_cleanskatergames = df_cleanskatergames.withColumn(\"playerTeam\", col(\"playerTeam\").cast(StringType()))\r\n",
        "df_cleanskatergames = df_cleanskatergames.withColumn(\"opposingTeam\", col(\"opposingTeam\").cast(StringType()))\r\n",
        "df_cleanskatergames = df_cleanskatergames.withColumn(\"season\", col(\"season\").cast(IntegerType()))\r\n",
        "df_cleanskatergames = df_cleanskatergames.withColumn(\"situation\", col(\"situation\").cast(StringType()))\r\n",
        "df_cleanskatergames = df_cleanskatergames.withColumn(\"I_F_points\", col(\"I_F_points\").cast(IntegerType()))\r\n",
        "df_cleanskatergames = df_cleanskatergames.withColumn(\"I_F_goals\", col(\"I_F_goals\").cast(IntegerType()))\r\n",
        "df_cleanskatergames = df_cleanskatergames.withColumn(\"penalties\", col(\"penalties\").cast(IntegerType()))\r\n",
        "df_cleanskatergames = df_cleanskatergames.withColumn(\"I_F_penalityminutes\", col(\"I_F_penalityminutes\").cast(IntegerType()))\r\n",
        "df_cleanskatergames = df_cleanskatergames.withColumn(\"faceoffsWon\", col(\"faceoffsWon\").cast(IntegerType()))\r\n",
        "df_cleanskatergames = df_cleanskatergames.withColumn(\"faceoffsLost\", col(\"faceoffsLost\").cast(IntegerType()))\r\n",
        "df_cleanskatergames = df_cleanskatergames.withColumn(\"icetime\", col(\"icetime\").cast(IntegerType()))\r\n",
        "\r\n",
        "display(df_cleanskatergames)"
      ]
    },
    {
      "cell_type": "code",
      "execution_count": 46,
      "outputs": [],
      "metadata": {
        "jupyter": {
          "source_hidden": false,
          "outputs_hidden": false
        },
        "nteract": {
          "transient": {
            "deleting": false
          }
        },
        "collapsed": false
      },
      "source": [
        "df_teams = df_teams.withColumn(\"TeamID\", col(\"TeamID\").cast(StringType()))\r\n",
        "df_teams = df_teams.withColumn(\"Conference\", col(\"Conference\").cast(StringType()))\r\n",
        "df_teams = df_teams.withColumn(\"Division\", col(\"Division\").cast(StringType()))\r\n",
        "df_teams = df_teams.withColumn(\"TeamName\", col(\"TeamName\").cast(StringType()))\r\n",
        "df_teams = df_teams.withColumn(\"City\", col(\"City\").cast(StringType()))\r\n",
        "df_teams = df_teams.withColumn(\"State\", col(\"State\").cast(StringType()))\r\n",
        "df_teams = df_teams.withColumn(\"Arena\", col(\"Arena\").cast(StringType()))\r\n",
        "df_teams = df_teams.withColumn(\"Capacity\", col(\"Capacity\").cast(IntegerType()))\r\n",
        "df_teams = df_teams.withColumn(\"Founded\", col(\"Founded\").cast(IntegerType()))\r\n",
        "df_teams = df_teams.withColumn(\"Joined\", col(\"Joined\").cast(IntegerType()))\r\n",
        "df_teams = df_teams.withColumn(\"General manager\", col(\"General manager\").cast(StringType()))\r\n",
        "df_teams = df_teams.withColumn(\"Head coach\", col(\"Head coach\").cast(StringType()))\r\n",
        "df_teams = df_teams.withColumn(\"Captain\", col(\"Captain\").cast(StringType()))"
      ]
    },
    {
      "cell_type": "code",
      "execution_count": 47,
      "outputs": [],
      "metadata": {
        "jupyter": {
          "source_hidden": false,
          "outputs_hidden": false
        },
        "nteract": {
          "transient": {
            "deleting": false
          }
        },
        "collapsed": false
      },
      "source": [
        "df_seasons = df_seasons.withColumn(\"Season\", col(\"Season\").cast(IntegerType()))\r\n",
        "df_seasons = df_seasons.withColumn(\"NoTeams\", col(\"NoTeams\").cast(IntegerType()))\r\n",
        "df_seasons = df_seasons.withColumn(\"RegGames\", col(\"RegGames\").cast(IntegerType()))\r\n",
        "df_seasons = df_seasons.withColumn(\"Start\", col(\"Start\").cast(DateType()))\r\n",
        "df_seasons = df_seasons.withColumn(\"Finish\", col(\"Finish\").cast(DateType()))\r\n",
        "df_seasons = df_seasons.withColumn(\"Champion\", col(\"Champion\").cast(StringType()))"
      ]
    },
    {
      "cell_type": "markdown",
      "metadata": {
        "nteract": {
          "transient": {
            "deleting": false
          }
        }
      },
      "source": [
        "Write dfs to data warehouse"
      ]
    },
    {
      "cell_type": "code",
      "execution_count": 48,
      "outputs": [],
      "metadata": {
        "jupyter": {
          "source_hidden": false,
          "outputs_hidden": false
        },
        "nteract": {
          "transient": {
            "deleting": false
          }
        }
      },
      "source": [
        "import com.microsoft.spark.sqlanalytics\r\n",
        "from com.microsoft.spark.sqlanalytics.Constants import Constants\r\n",
        "from pyspark.sql.functions import col\r\n",
        "\r\n",
        "df_teams.write.mode(\"overwrite\").synapsesql(\"nhlsqlpool.dbo.dimteamsp\")\r\n",
        "df_seasons.write.mode(\"overwrite\").synapsesql(\"nhlsqlpool.dbo.dimseasonsp\")\r\n",
        "df_cleanskatergames.write.mode(\"overwrite\").synapsesql(\"nhlsqlpool.dbo.factgamesp\")"
      ]
    }
  ],
  "metadata": {
    "save_output": true,
    "kernelspec": {
      "name": "synapse_pyspark",
      "display_name": "Synapse PySpark"
    },
    "language_info": {
      "name": "python"
    }
  }
}