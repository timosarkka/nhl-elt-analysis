{
  "nbformat": 4,
  "nbformat_minor": 2,
  "cells": [
    {
      "cell_type": "markdown",
      "metadata": {
        "nteract": {
          "transient": {
            "deleting": false
          }
        }
      },
      "source": [
        "Import needed libraries"
      ]
    },
    {
      "cell_type": "code",
      "execution_count": 2,
      "outputs": [],
      "metadata": {
        "microsoft": {
          "language": "python"
        }
      },
      "source": [
        "%%pyspark\r\n",
        "\r\n",
        " from pyspark.sql.types import *\r\n",
        " from pyspark.sql.functions import *\r\n",
        " from pyspark.sql import SparkSession\r\n",
        " from pyspark.sql.functions import to_date"
      ]
    },
    {
      "cell_type": "markdown",
      "metadata": {
        "nteract": {
          "transient": {
            "deleting": false
          }
        }
      },
      "source": [
        "Read in all datasets to dataframes"
      ]
    },
    {
      "cell_type": "code",
      "execution_count": 3,
      "outputs": [],
      "metadata": {
        "jupyter": {
          "source_hidden": false,
          "outputs_hidden": false
        },
        "nteract": {
          "transient": {
            "deleting": false
          }
        },
        "collapsed": false
      },
      "source": [
        "df_games = spark.read.parquet('abfss://nhlroot@simondemosimondemo.dfs.core.windows.net/nhlrawgamelevel/rawgamelevel.parquet')\r\n",
        "display(df_games.limit(20))"
      ]
    },
    {
      "cell_type": "code",
      "execution_count": 4,
      "outputs": [],
      "metadata": {
        "jupyter": {
          "source_hidden": false,
          "outputs_hidden": true
        },
        "nteract": {
          "transient": {
            "deleting": false
          }
        },
        "collapsed": false
      },
      "source": [
        "df_teams = spark.read.csv('abfss://nhlroot@simondemosimondemo.dfs.core.windows.net/teams.csv', header=True)\r\n",
        "display(df_teams)"
      ]
    },
    {
      "cell_type": "code",
      "execution_count": 5,
      "outputs": [],
      "metadata": {
        "jupyter": {
          "source_hidden": false,
          "outputs_hidden": true
        },
        "nteract": {
          "transient": {
            "deleting": false
          }
        },
        "collapsed": false
      },
      "source": [
        "df_seasons = spark.read.csv('abfss://nhlroot@simondemosimondemo.dfs.core.windows.net/seasons.csv', header=True)\r\n",
        "display(df_seasons)"
      ]
    },
    {
      "cell_type": "markdown",
      "metadata": {
        "nteract": {
          "transient": {
            "deleting": false
          }
        }
      },
      "source": [
        "Select wanted columns for the games facts table"
      ]
    },
    {
      "cell_type": "code",
      "execution_count": 6,
      "outputs": [],
      "metadata": {
        "jupyter": {
          "source_hidden": false,
          "outputs_hidden": false
        },
        "nteract": {
          "transient": {
            "deleting": false
          }
        },
        "collapsed": false
      },
      "source": [
        "df_cleangames = df_games.select(\"gameId\", \"gameDate\", \"playerTeam\", \"opposingTeam\", \"season\", \"situation\", \"goalsFor\", \"goalsAgainst\", \"shotsOnGoalFor\", \"shotsOnGoalAgainst\", \"penaltiesFor\", \"penaltiesAgainst\", \"penalityMinutesFor\", \"penalityMinutesAgainst\", \"playoffGame\")\r\n",
        "display(df_cleangames)"
      ]
    },
    {
      "cell_type": "markdown",
      "metadata": {
        "nteract": {
          "transient": {
            "deleting": false
          }
        }
      },
      "source": [
        "Clean up team IDs"
      ]
    },
    {
      "cell_type": "code",
      "execution_count": 7,
      "outputs": [],
      "metadata": {
        "jupyter": {
          "source_hidden": false,
          "outputs_hidden": false
        },
        "nteract": {
          "transient": {
            "deleting": false
          }
        },
        "collapsed": false
      },
      "source": [
        "\r\n",
        "df_cleangames = df_cleangames.withColumn(\r\n",
        "    'playerTeam', \r\n",
        "    when(col('playerTeam') == \"L.A\", \"LAK\")\r\n",
        "    .when(col('playerTeam') == \"N.J\", \"NJD\")\r\n",
        "    .when(col('playerTeam') == \"S.J\", \"SJS\")\r\n",
        "    .when(col('playerTeam') == \"T.B\", \"TBL\")\r\n",
        "    .otherwise(col('playerTeam'))\r\n",
        ")\r\n",
        "\r\n",
        "df_cleangames = df_cleangames.withColumn(\r\n",
        "    'opposingTeam', \r\n",
        "    when(col('opposingTeam') == \"L.A\", \"LAK\")\r\n",
        "    .when(col('opposingTeam') == \"N.J\", \"NJD\")\r\n",
        "    .when(col('opposingTeam') == \"S.J\", \"SJS\")\r\n",
        "    .when(col('opposingTeam') == \"T.B\", \"TBL\")\r\n",
        "    .otherwise(col('opposingTeam'))\r\n",
        ")\r\n",
        ""
      ]
    },
    {
      "cell_type": "markdown",
      "metadata": {
        "nteract": {
          "transient": {
            "deleting": false
          }
        }
      },
      "source": [
        "Cast columns to proper types"
      ]
    },
    {
      "cell_type": "code",
      "execution_count": 8,
      "outputs": [],
      "metadata": {
        "jupyter": {
          "source_hidden": false,
          "outputs_hidden": false
        },
        "nteract": {
          "transient": {
            "deleting": false
          }
        },
        "collapsed": false
      },
      "source": [
        "df_cleangames = df_cleangames.withColumn(\"playoffGame\", col(\"playoffGame\").cast(BooleanType()))\r\n",
        "df_cleangames = df_cleangames.withColumn(\"gameId\", col(\"gameId\").cast(IntegerType()))\r\n",
        "df_cleangames = df_cleangames.withColumn(\"gameDate\", to_date(df_cleangames.gameDate, \"yyyyMMdd\"))\r\n",
        "df_cleangames = df_cleangames.withColumn(\"gameDate\", col(\"gameDate\").cast(DateType()))\r\n",
        "df_cleangames = df_cleangames.withColumn(\"playerTeam\", col(\"playerTeam\").cast(StringType()))\r\n",
        "df_cleangames = df_cleangames.withColumn(\"opposingTeam\", col(\"opposingTeam\").cast(StringType()))\r\n",
        "df_cleangames = df_cleangames.withColumn(\"season\", col(\"season\").cast(IntegerType()))\r\n",
        "df_cleangames = df_cleangames.withColumn(\"situation\", col(\"situation\").cast(StringType()))\r\n",
        "df_cleangames = df_cleangames.withColumn(\"goalsFor\", col(\"goalsFor\").cast(IntegerType()))\r\n",
        "df_cleangames = df_cleangames.withColumn(\"goalsAgainst\", col(\"goalsAgainst\").cast(IntegerType()))\r\n",
        "df_cleangames = df_cleangames.withColumn(\"shotsOnGoalFor\", col(\"shotsOnGoalFor\").cast(IntegerType()))\r\n",
        "df_cleangames = df_cleangames.withColumn(\"shotsOnGoalAgainst\", col(\"shotsOnGoalAgainst\").cast(IntegerType()))\r\n",
        "df_cleangames = df_cleangames.withColumn(\"penaltiesFor\", col(\"penaltiesFor\").cast(IntegerType()))\r\n",
        "df_cleangames = df_cleangames.withColumn(\"penaltiesAgainst\", col(\"penaltiesAgainst\").cast(IntegerType()))\r\n",
        "df_cleangames = df_cleangames.withColumn(\"penalityMinutesFor\", col(\"penalityMinutesFor\").cast(IntegerType()))\r\n",
        "df_cleangames = df_cleangames.withColumn(\"penalityMinutesAgainst\", col(\"penalityMinutesAgainst\").cast(IntegerType()))\r\n",
        "\r\n",
        "display(df_cleangames)"
      ]
    },
    {
      "cell_type": "code",
      "execution_count": 9,
      "outputs": [],
      "metadata": {
        "jupyter": {
          "source_hidden": false,
          "outputs_hidden": false
        },
        "nteract": {
          "transient": {
            "deleting": false
          }
        },
        "collapsed": false
      },
      "source": [
        "df_teams = df_teams.withColumn(\"TeamID\", col(\"TeamID\").cast(StringType()))\r\n",
        "df_teams = df_teams.withColumn(\"Conference\", col(\"Conference\").cast(StringType()))\r\n",
        "df_teams = df_teams.withColumn(\"Division\", col(\"Division\").cast(StringType()))\r\n",
        "df_teams = df_teams.withColumn(\"TeamName\", col(\"TeamName\").cast(StringType()))\r\n",
        "df_teams = df_teams.withColumn(\"City\", col(\"City\").cast(StringType()))\r\n",
        "df_teams = df_teams.withColumn(\"State\", col(\"State\").cast(StringType()))\r\n",
        "df_teams = df_teams.withColumn(\"Arena\", col(\"Arena\").cast(StringType()))\r\n",
        "df_teams = df_teams.withColumn(\"Capacity\", col(\"Capacity\").cast(IntegerType()))\r\n",
        "df_teams = df_teams.withColumn(\"Founded\", col(\"Founded\").cast(IntegerType()))\r\n",
        "df_teams = df_teams.withColumn(\"Joined\", col(\"Joined\").cast(IntegerType()))\r\n",
        "df_teams = df_teams.withColumn(\"General manager\", col(\"General manager\").cast(StringType()))\r\n",
        "df_teams = df_teams.withColumn(\"Head coach\", col(\"Head coach\").cast(StringType()))\r\n",
        "df_teams = df_teams.withColumn(\"Captain\", col(\"Captain\").cast(StringType()))"
      ]
    },
    {
      "cell_type": "code",
      "execution_count": 10,
      "outputs": [],
      "metadata": {
        "jupyter": {
          "source_hidden": false,
          "outputs_hidden": false
        },
        "nteract": {
          "transient": {
            "deleting": false
          }
        },
        "collapsed": false
      },
      "source": [
        "df_seasons = df_seasons.withColumn(\"Season\", col(\"Season\").cast(IntegerType()))\r\n",
        "df_seasons = df_seasons.withColumn(\"NoTeams\", col(\"NoTeams\").cast(IntegerType()))\r\n",
        "df_seasons = df_seasons.withColumn(\"RegGames\", col(\"RegGames\").cast(IntegerType()))\r\n",
        "df_seasons = df_seasons.withColumn(\"Start\", col(\"Start\").cast(DateType()))\r\n",
        "df_seasons = df_seasons.withColumn(\"Finish\", col(\"Finish\").cast(DateType()))\r\n",
        "df_seasons = df_seasons.withColumn(\"Champion\", col(\"Champion\").cast(StringType()))"
      ]
    },
    {
      "cell_type": "markdown",
      "metadata": {
        "nteract": {
          "transient": {
            "deleting": false
          }
        }
      },
      "source": [
        "Check data metrics in fact table"
      ]
    },
    {
      "cell_type": "code",
      "execution_count": 24,
      "outputs": [],
      "metadata": {
        "jupyter": {
          "source_hidden": false,
          "outputs_hidden": false
        },
        "nteract": {
          "transient": {
            "deleting": false
          }
        }
      },
      "source": [
        "# Duplicates\r\n",
        "duplicate_rows = df_cleangames.count() - df_cleangames.dropDuplicates().count()\r\n",
        "print(f\"Number of duplicate rows: {duplicate_rows}\")\r\n",
        "\r\n",
        "# Unique values in columns\r\n",
        "print()\r\n",
        "print(\"Unique values in different columns:\")\r\n",
        "for column in df_cleangames.columns:\r\n",
        "    print(f\"{column}: {df_cleangames.select(column).distinct().count()} distinct values\")\r\n",
        "\r\n",
        "# Missing values\r\n",
        "print()\r\n",
        "print(\"Number of null values in each column:\")\r\n",
        "df_cleangames.select(*(sum(col(c).isNull().cast(\"int\")).alias(c) for c in df_cleangames.columns)).show()\r\n",
        "\r\n",
        "# Check schema\r\n",
        "df_cleangames.printSchema()"
      ]
    },
    {
      "cell_type": "markdown",
      "metadata": {
        "nteract": {
          "transient": {
            "deleting": false
          }
        }
      },
      "source": [
        "Write dfs to data warehouse"
      ]
    },
    {
      "cell_type": "code",
      "execution_count": 12,
      "outputs": [],
      "metadata": {
        "jupyter": {
          "source_hidden": false,
          "outputs_hidden": false
        },
        "nteract": {
          "transient": {
            "deleting": false
          }
        }
      },
      "source": [
        "# import com.microsoft.spark.sqlanalytics\r\n",
        "# from com.microsoft.spark.sqlanalytics.Constants import Constants\r\n",
        "# from pyspark.sql.functions import col\r\n",
        "\r\n",
        "# df_teams.write.mode(\"overwrite\").synapsesql(\"nhlsqlpool.dbo.dimteamsg\")\r\n",
        "# df_seasons.write.mode(\"overwrite\").synapsesql(\"nhlsqlpool.dbo.dimseasonsg\")\r\n",
        "# df_cleangames.write.mode(\"overwrite\").synapsesql(\"nhlsqlpool.dbo.factgamesg\")"
      ]
    }
  ],
  "metadata": {
    "save_output": true,
    "kernelspec": {
      "name": "synapse_pyspark",
      "display_name": "Synapse PySpark"
    },
    "language_info": {
      "name": "python"
    }
  }
}